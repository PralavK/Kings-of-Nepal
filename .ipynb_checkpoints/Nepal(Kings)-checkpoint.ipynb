{
 "cells": [
  {
   "cell_type": "code",
   "execution_count": 1,
   "metadata": {
    "scrolled": true
   },
   "outputs": [],
   "source": [
    "import pandas as pd\n",
    "import numpy as np"
   ]
  },
  {
   "cell_type": "code",
   "execution_count": 3,
   "metadata": {
    "scrolled": true
   },
   "outputs": [
    {
     "data": {
      "text/html": [
       "<div>\n",
       "<style scoped>\n",
       "    .dataframe tbody tr th:only-of-type {\n",
       "        vertical-align: middle;\n",
       "    }\n",
       "\n",
       "    .dataframe tbody tr th {\n",
       "        vertical-align: top;\n",
       "    }\n",
       "\n",
       "    .dataframe thead th {\n",
       "        text-align: right;\n",
       "    }\n",
       "</style>\n",
       "<table border=\"1\" class=\"dataframe\">\n",
       "  <thead>\n",
       "    <tr style=\"text-align: right;\">\n",
       "      <th></th>\n",
       "      <th>Names</th>\n",
       "      <th>Birthday</th>\n",
       "      <th>Reignend</th>\n",
       "      <th>ReignStart</th>\n",
       "      <th>ReignSpan</th>\n",
       "      <th>Age</th>\n",
       "    </tr>\n",
       "  </thead>\n",
       "  <tbody>\n",
       "    <tr>\n",
       "      <th>0</th>\n",
       "      <td>Prithvi Narayan Shah</td>\n",
       "      <td>1723-01-07</td>\n",
       "      <td>1775-01-11</td>\n",
       "      <td>1768-09-25</td>\n",
       "      <td>6.294448</td>\n",
       "      <td>52.012019</td>\n",
       "    </tr>\n",
       "    <tr>\n",
       "      <th>1</th>\n",
       "      <td>Pratap Singh Shah</td>\n",
       "      <td>1751-04-16</td>\n",
       "      <td>1777-11-17</td>\n",
       "      <td>1775-01-11</td>\n",
       "      <td>2.850161</td>\n",
       "      <td>26.590553</td>\n",
       "    </tr>\n",
       "    <tr>\n",
       "      <th>2</th>\n",
       "      <td>Rana Bahadur Shah</td>\n",
       "      <td>1775-05-25</td>\n",
       "      <td>1799-03-08</td>\n",
       "      <td>1777-11-17</td>\n",
       "      <td>21.303654</td>\n",
       "      <td>23.786936</td>\n",
       "    </tr>\n",
       "    <tr>\n",
       "      <th>3</th>\n",
       "      <td>Girvan Yuddha Bikram Shah</td>\n",
       "      <td>1797-10-19</td>\n",
       "      <td>1816-11-20</td>\n",
       "      <td>1799-03-08</td>\n",
       "      <td>17.703307</td>\n",
       "      <td>19.085950</td>\n",
       "    </tr>\n",
       "    <tr>\n",
       "      <th>4</th>\n",
       "      <td>Rajendra Bikram Shah</td>\n",
       "      <td>1813-12-03</td>\n",
       "      <td>1847-05-12</td>\n",
       "      <td>1816-11-20</td>\n",
       "      <td>30.472905</td>\n",
       "      <td>33.438058</td>\n",
       "    </tr>\n",
       "    <tr>\n",
       "      <th>5</th>\n",
       "      <td>Surendra Bikram Shah</td>\n",
       "      <td>1829-10-20</td>\n",
       "      <td>1881-05-17</td>\n",
       "      <td>1847-05-12</td>\n",
       "      <td>34.015757</td>\n",
       "      <td>51.573954</td>\n",
       "    </tr>\n",
       "    <tr>\n",
       "      <th>6</th>\n",
       "      <td>Prithvi Bir Bikram Shah</td>\n",
       "      <td>1875-08-18</td>\n",
       "      <td>1911-12-11</td>\n",
       "      <td>1881-05-17</td>\n",
       "      <td>30.565994</td>\n",
       "      <td>36.312861</td>\n",
       "    </tr>\n",
       "    <tr>\n",
       "      <th>7</th>\n",
       "      <td>Tribhuvan Bir Bikram Shah(1st reign)</td>\n",
       "      <td>1906-06-30</td>\n",
       "      <td>1950-11-07</td>\n",
       "      <td>1911-12-11</td>\n",
       "      <td>38.908396</td>\n",
       "      <td>44.356831</td>\n",
       "    </tr>\n",
       "    <tr>\n",
       "      <th>8</th>\n",
       "      <td>Gyanendra Bir Bikram Shah(1st reign)</td>\n",
       "      <td>1946-07-07</td>\n",
       "      <td>1951-01-07</td>\n",
       "      <td>1950-11-07</td>\n",
       "      <td>0.167012</td>\n",
       "      <td>4.503857</td>\n",
       "    </tr>\n",
       "    <tr>\n",
       "      <th>9</th>\n",
       "      <td>Tribhuvan Bir Bikram Shah(2nd reign)</td>\n",
       "      <td>1906-06-30</td>\n",
       "      <td>1955-03-13</td>\n",
       "      <td>1951-01-07</td>\n",
       "      <td>4.178046</td>\n",
       "      <td>48.701890</td>\n",
       "    </tr>\n",
       "    <tr>\n",
       "      <th>10</th>\n",
       "      <td>Mahendra Bir Bikram Shah</td>\n",
       "      <td>1920-06-11</td>\n",
       "      <td>1972-01-31</td>\n",
       "      <td>1955-03-14</td>\n",
       "      <td>16.884673</td>\n",
       "      <td>51.639664</td>\n",
       "    </tr>\n",
       "    <tr>\n",
       "      <th>11</th>\n",
       "      <td>Birendra Bir Bikram Shah</td>\n",
       "      <td>1944-12-28</td>\n",
       "      <td>2001-06-01</td>\n",
       "      <td>1972-01-31</td>\n",
       "      <td>29.333936</td>\n",
       "      <td>56.425526</td>\n",
       "    </tr>\n",
       "    <tr>\n",
       "      <th>12</th>\n",
       "      <td>Dipendra Bir Bikram Shah[13]</td>\n",
       "      <td>1971-06-27</td>\n",
       "      <td>2001-06-04</td>\n",
       "      <td>2001-06-01</td>\n",
       "      <td>0.008214</td>\n",
       "      <td>29.939013</td>\n",
       "    </tr>\n",
       "    <tr>\n",
       "      <th>13</th>\n",
       "      <td>Gyanendra Bir Bikram Shah(2nd reign)</td>\n",
       "      <td>1946-07-07</td>\n",
       "      <td>2008-05-28</td>\n",
       "      <td>2001-06-04</td>\n",
       "      <td>6.981663</td>\n",
       "      <td>61.893126</td>\n",
       "    </tr>\n",
       "  </tbody>\n",
       "</table>\n",
       "</div>"
      ],
      "text/plain": [
       "                                   Names    Birthday    Reignend  ReignStart  \\\n",
       "0                   Prithvi Narayan Shah  1723-01-07  1775-01-11  1768-09-25   \n",
       "1                      Pratap Singh Shah  1751-04-16  1777-11-17  1775-01-11   \n",
       "2                      Rana Bahadur Shah  1775-05-25  1799-03-08  1777-11-17   \n",
       "3              Girvan Yuddha Bikram Shah  1797-10-19  1816-11-20  1799-03-08   \n",
       "4                   Rajendra Bikram Shah  1813-12-03  1847-05-12  1816-11-20   \n",
       "5                   Surendra Bikram Shah  1829-10-20  1881-05-17  1847-05-12   \n",
       "6                Prithvi Bir Bikram Shah  1875-08-18  1911-12-11  1881-05-17   \n",
       "7   Tribhuvan Bir Bikram Shah(1st reign)  1906-06-30  1950-11-07  1911-12-11   \n",
       "8   Gyanendra Bir Bikram Shah(1st reign)  1946-07-07  1951-01-07  1950-11-07   \n",
       "9   Tribhuvan Bir Bikram Shah(2nd reign)  1906-06-30  1955-03-13  1951-01-07   \n",
       "10              Mahendra Bir Bikram Shah  1920-06-11  1972-01-31  1955-03-14   \n",
       "11              Birendra Bir Bikram Shah  1944-12-28  2001-06-01  1972-01-31   \n",
       "12          Dipendra Bir Bikram Shah[13]  1971-06-27  2001-06-04  2001-06-01   \n",
       "13  Gyanendra Bir Bikram Shah(2nd reign)  1946-07-07  2008-05-28  2001-06-04   \n",
       "\n",
       "    ReignSpan        Age  \n",
       "0    6.294448  52.012019  \n",
       "1    2.850161  26.590553  \n",
       "2   21.303654  23.786936  \n",
       "3   17.703307  19.085950  \n",
       "4   30.472905  33.438058  \n",
       "5   34.015757  51.573954  \n",
       "6   30.565994  36.312861  \n",
       "7   38.908396  44.356831  \n",
       "8    0.167012   4.503857  \n",
       "9    4.178046  48.701890  \n",
       "10  16.884673  51.639664  \n",
       "11  29.333936  56.425526  \n",
       "12   0.008214  29.939013  \n",
       "13   6.981663  61.893126  "
      ]
     },
     "execution_count": 3,
     "metadata": {},
     "output_type": "execute_result"
    }
   ],
   "source": [
    "#Using DataFrame created from web scraping. Furthur Data exploration and wrangling is done \n",
    "df = pd.read_csv(\"KingsOfNepal.csv\")\n",
    "\n",
    "df#.drop(columns=[\"Unnamed: 0\"], inplace=True)"
   ]
  },
  {
   "cell_type": "code",
   "execution_count": null,
   "metadata": {
    "scrolled": true
   },
   "outputs": [],
   "source": [
    "#Converting object types to datetime for calculation of the number of days\n",
    "\n",
    "df[\"Birthday\"] = pd.to_datetime(df[\"Birthday\"])\n",
    "df[\"ReignStart\"] = pd.to_datetime(df[\"ReignStart\"])\n",
    "df[\"Reignend\"] = pd.to_datetime(df[\"Reignend\"])"
   ]
  },
  {
   "cell_type": "code",
   "execution_count": null,
   "metadata": {
    "scrolled": true
   },
   "outputs": [],
   "source": [
    "#calculating the number of days each kings ruled\n",
    "df['ReignDays'] = df[\"Reignend\"] - df[\"ReignStart\"]"
   ]
  },
  {
   "cell_type": "code",
   "execution_count": null,
   "metadata": {
    "scrolled": true
   },
   "outputs": [],
   "source": [
    "#Adding a new column ReignDays to df. (.dt.days is added so that the dataframe only shows int)\n",
    "df[\"ReignDays\"] = df[\"ReignDays\"].dt.days"
   ]
  },
  {
   "cell_type": "code",
   "execution_count": null,
   "metadata": {
    "scrolled": true
   },
   "outputs": [],
   "source": [
    "#Rounding off Age and Reign Span columns\n",
    "df['ReignSpan'] = df['ReignSpan'].apply(lambda x: round(x), 2)\n",
    "df['Age'] = df['Age'].apply(lambda x: round(x), 2)\n"
   ]
  },
  {
   "cell_type": "code",
   "execution_count": null,
   "metadata": {
    "scrolled": true
   },
   "outputs": [],
   "source": [
    "#Removing (1st reign and 2nd reign from df[\"Names\"])\n",
    "df[\"Names\"] = df[\"Names\"].str.split(\"(\", expand = True).iloc[:,0]"
   ]
  },
  {
   "cell_type": "code",
   "execution_count": null,
   "metadata": {
    "scrolled": true
   },
   "outputs": [],
   "source": [
    "#df[\"Names\"] = df[\"Names\"].str.replace(r\"13\",\"\")\n",
    "df[\"Names\"] = df[\"Names\"].str.split(\"[\", expand = True).iloc[:,0]"
   ]
  },
  {
   "cell_type": "code",
   "execution_count": null,
   "metadata": {},
   "outputs": [],
   "source": [
    "df"
   ]
  },
  {
   "cell_type": "code",
   "execution_count": null,
   "metadata": {
    "scrolled": true
   },
   "outputs": [],
   "source": [
    "#Copying data into a csv file\n",
    "df.to_csv('ShahKingsofNepal.csv', index = False)"
   ]
  },
  {
   "cell_type": "code",
   "execution_count": null,
   "metadata": {
    "scrolled": true
   },
   "outputs": [],
   "source": [
    "#Using groupby to calculate total number of days ruled by the Kings, Since there were two terms for the two of the Kings\n",
    "kings = df.groupby(\"Names\").ReignDays.sum()\n"
   ]
  },
  {
   "cell_type": "code",
   "execution_count": null,
   "metadata": {
    "scrolled": true
   },
   "outputs": [],
   "source": [
    "Kings = kings.sort_values()\n"
   ]
  },
  {
   "cell_type": "code",
   "execution_count": null,
   "metadata": {
    "scrolled": true
   },
   "outputs": [],
   "source": [
    "import matplotlib.pyplot as plt\n",
    "%matplotlib inline"
   ]
  },
  {
   "cell_type": "markdown",
   "metadata": {},
   "source": [
    " Plotting the number of days spent in power for every Kings"
   ]
  },
  {
   "cell_type": "code",
   "execution_count": null,
   "metadata": {
    "scrolled": false
   },
   "outputs": [],
   "source": [
    "df"
   ]
  },
  {
   "cell_type": "code",
   "execution_count": null,
   "metadata": {
    "scrolled": false
   },
   "outputs": [],
   "source": [
    "ax = Kings.plot(kind='barh', figsize=(8, 10), color='#86bf91', zorder=2, width=0.85)\n",
    "ax.spines['right'].set_visible(False)\n",
    "ax.spines['top'].set_visible(False)\n",
    "#ax.tick_params(axis=\"both\", which=\"both\", bottom=\"off\", top=\"off\", labelbottom=\"on\", left=\"off\", right=\"off\", labelleft=\"on\")\n",
    "ax.set_ylabel(\"Names of Kings\", weight='bold', labelpad=20)\n",
    "ax.set_xlabel(\"Total days of Reign\", weight='bold')\n",
    "\n",
    "\n",
    "for i, v in enumerate(Kings):\n",
    "    ax.text(v + 3, i + .045, str(v), color='black')\n"
   ]
  },
  {
   "cell_type": "markdown",
   "metadata": {},
   "source": [
    "Timeline of Rule in chronological order"
   ]
  },
  {
   "cell_type": "code",
   "execution_count": null,
   "metadata": {
    "scrolled": false
   },
   "outputs": [],
   "source": [
    "\n",
    "begin = df[\"ReignStart\"].dt.year.values\n",
    "\n",
    "end =   df[\"Reignend\"].dt.year.values\n",
    "event = df[\"Names\"].values\n",
    "begin_sort = np.sort(begin)\n",
    "end_sort = end[np.argsort(begin)]\n",
    "plt.figure(figsize=(12,12))\n",
    "\n",
    "plt.barh(range(len(begin)),  end-begin, left=begin, align='center')\n",
    "plt.title('Shah Kings of Nepal', fontsize = '20')\n",
    "plt.yticks(range(len(begin)), event)\n",
    "plt.xlabel(\"Years--->\")\n",
    "\n",
    "plt.show()"
   ]
  },
  {
   "cell_type": "markdown",
   "metadata": {},
   "source": [
    "Interactive Barplot  using plotly"
   ]
  },
  {
   "cell_type": "code",
   "execution_count": null,
   "metadata": {
    "scrolled": true
   },
   "outputs": [],
   "source": []
  }
 ],
 "metadata": {
  "kernelspec": {
   "display_name": "Python 3",
   "language": "python",
   "name": "python3"
  },
  "language_info": {
   "codemirror_mode": {
    "name": "ipython",
    "version": 3
   },
   "file_extension": ".py",
   "mimetype": "text/x-python",
   "name": "python",
   "nbconvert_exporter": "python",
   "pygments_lexer": "ipython3",
   "version": "3.7.0"
  }
 },
 "nbformat": 4,
 "nbformat_minor": 2
}
